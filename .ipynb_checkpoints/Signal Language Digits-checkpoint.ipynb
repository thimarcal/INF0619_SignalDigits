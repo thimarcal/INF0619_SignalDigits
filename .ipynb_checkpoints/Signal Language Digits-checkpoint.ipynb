{
 "cells": [
  {
   "cell_type": "markdown",
   "metadata": {},
   "source": [
    "# Trabalho Final\n",
    "Neste trabalho, vamos buscar o reconhecimento dos dígitos da Linguagem de Sinais. Para tal, vamos nos utilizar de Modelos conhecidos de Deep Learning e também nos aventurar na criação de próprios.\n",
    "\n",
    "------\n",
    "\n",
    "## Imports"
   ]
  },
  {
   "cell_type": "code",
   "execution_count": 1,
   "metadata": {},
   "outputs": [
    {
     "name": "stderr",
     "output_type": "stream",
     "text": [
      "D:\\ProgramData\\Anaconda3\\lib\\site-packages\\h5py\\__init__.py:36: FutureWarning: Conversion of the second argument of issubdtype from `float` to `np.floating` is deprecated. In future, it will be treated as `np.float64 == np.dtype(float).type`.\n",
      "  from ._conv import register_converters as _register_converters\n",
      "Using TensorFlow backend.\n"
     ]
    }
   ],
   "source": [
    "import os\n",
    "import numpy as np\n",
    "from random import sample, seed\n",
    "seed(42)\n",
    "np.random.seed(42)\n",
    "\n",
    "import matplotlib.pyplot as plt\n",
    "plt.rcParams['figure.figsize'] = (15,15) # Make the figures a bit bigger\n",
    "\n",
    "# Keras imports\n",
    "from keras.layers import Input, Convolution2D, MaxPooling2D, Activation, concatenate, Dropout, GlobalAveragePooling2D\n",
    "from keras.models import Model\n",
    "from keras.utils import np_utils\n",
    "from keras.preprocessing.image import load_img, img_to_array, ImageDataGenerator"
   ]
  },
  {
   "cell_type": "markdown",
   "metadata": {},
   "source": [
    "# Dataset\n",
    "O dataset é composto por 10 classes (dígitos de 0 a 9) com aproximadamente 205 imagens por classe. \n",
    "O conjunto foi dividido em 60% para treinamento, 15% para validação e 20% para teste.\n",
    "As imagens estão divididas em blocos por classe.\n",
    "\n",
    "** IMPORTANTE NÃO ALTERAR O NOME/LOCAL DAS IMAGENS** "
   ]
  },
  {
   "cell_type": "code",
   "execution_count": 2,
   "metadata": {},
   "outputs": [],
   "source": [
    "datasetDir = \"./Dataset\"\n",
    "nbClasses = 10\n",
    "input_shape = (100,100,3)\n",
    "\n",
    "train_files = {}\n",
    "val_files = {}\n",
    "test_files = {}\n",
    "\n",
    "def splitData():\n",
    "    # Initially Split Data between Train / Validation and Test\n",
    "    # This data will be used during all process, and epochs will shuffle only train data\n",
    "    for i in range(nbClasses):\n",
    "        filenames = os.listdir(os.path.join(datasetDir, str(i)))\n",
    "        shuffledFiles = sample(filenames, len(filenames))\n",
    "\n",
    "        # 60% for Train\n",
    "        # 15% for Validation\n",
    "        # 25% for Test\n",
    "        for index, file in enumerate(shuffledFiles):\n",
    "            file = os.path.join(datasetDir, str(i), file)\n",
    "            if index < len(filenames)*0.6:\n",
    "                train_files[file] = i\n",
    "            elif index < len(filenames)*0.75:\n",
    "                val_files[file] = i\n",
    "            else:\n",
    "                test_files[file] = i\n"
   ]
  },
  {
   "cell_type": "code",
   "execution_count": 13,
   "metadata": {},
   "outputs": [],
   "source": [
    "#plot the images from imgList\n",
    "def plotImages(imgListDict):\n",
    "    for imgPath in imgListDict.keys():\n",
    "        #imgPath = os.path.join(datasetDir, str(imgListDict.get(key)), key)\n",
    "        plotImage(imgPath)\n",
    "\n",
    "#plot the images from imgList\n",
    "def plotImagesFromBatch(imgList):\n",
    "    for i in range(len(imgList)):\n",
    "        plotImage(imgList[i])\n",
    "\n",
    "def plotImage(imagePath):\n",
    "    print(imagePath)\n",
    "    img1 = img_to_array(load_img(imagePath, target_size=input_shape))\n",
    "    img1 = img1.astype('float32')\n",
    "    img1 /= 255.0\n",
    "    \n",
    "    fig = plt.figure(figsize=(5,5))\n",
    "    ax = fig.add_subplot(111)\n",
    "\n",
    "    ax.imshow(np.uint8(img1*255.0), interpolation='nearest')\n",
    "    plt.show()\n",
    "\n",
    "splitData()\n",
    "# Se quiser visualizar algum bloco de imagens, descomentar as linhas abaixo\n",
    "# plotImages(val_files)\n",
    "# plotImages(train_files)\n",
    "# plotImages(test_files)"
   ]
  },
  {
   "cell_type": "code",
   "execution_count": 10,
   "metadata": {},
   "outputs": [
    {
     "name": "stdout",
     "output_type": "stream",
     "text": [
      "# images in Train set:  1242\n",
      "# images in Val set:  309\n",
      "# images in Test set:  511\n"
     ]
    }
   ],
   "source": [
    "def getDatasetSize(split='train'):\n",
    "    if split not in [\"train\", \"val\", \"test\"]:\n",
    "        raise ValueError(split + \" not recognized. Did you mean 'train', 'val' or 'test'?\")\n",
    "    \n",
    "    if split == 'train':\n",
    "        return len(train_files)\n",
    "    elif split == 'val':\n",
    "        return len(val_files)\n",
    "    else:\n",
    "        return len(test_files)\n",
    "\n",
    "def getLabelFromImgName(imgPath, split):\n",
    "    if split == 'train':\n",
    "        return train_files.get(imgPath)\n",
    "    elif split == 'val':\n",
    "        return val_files.get(imgPath)\n",
    "    else:\n",
    "        return test_files.get(imgPath)\n",
    "    \n",
    "#Read our dataset in batches\n",
    "def loadDatasetInBatches(split=\"train\", batch_size=32):\n",
    "    if split not in [\"train\", \"val\", \"test\"]:\n",
    "        raise ValueError(split + \" not recognized. Did you mean 'train', 'val' or 'test'?\")\n",
    "    \n",
    "    if split == 'train':\n",
    "        fileNames = train_files\n",
    "    elif split == 'val':\n",
    "        fileNames = val_files\n",
    "    else:\n",
    "        fileNames = test_files\n",
    "    \n",
    "    while True:\n",
    "        imagePaths = sample(fileNames.keys(), len(fileNames)) #shuffle images in each epoch\n",
    "        \n",
    "        batch, labelList = [], []\n",
    "        nInBatch = 0\n",
    "        \n",
    "        #loop of one epoch\n",
    "        for idx in list(range(len(imagePaths))):\n",
    "                        img = img_to_array(load_img(imagePaths[idx], target_size=input_shape))\n",
    "                        img = img.astype('float32')\n",
    "                        img /= 255.0\n",
    "                    \n",
    "                        label = np_utils.to_categorical(getLabelFromImgName(imagePaths[idx], split), nbClasses)\n",
    "                        \n",
    "                        ######### If you want to run with Data Augmentation, just uncomment here\n",
    "                        ##### you can add more transformations (see https://keras.io/preprocessing/image/)\n",
    "                        ### We apply a random transformation and add this image (instead of the original)\n",
    "                        ### to the batch...\n",
    "                        \n",
    "                        #dataAugmentator = ImageDataGenerator(horizontal_flip = True)\n",
    "                        #img = dataAugmentator.random_transform(img)\n",
    "                        \n",
    "                        \n",
    "                        batch.append(img)\n",
    "                        labelList.append(label)\n",
    "                        nInBatch += 1\n",
    "                        \n",
    "                        #if we already have one batch, yields it\n",
    "                        if nInBatch >= batch_size:\n",
    "                            yield np.array(batch), np.array(labelList)\n",
    "                            batch, labelList = [], []\n",
    "                            nInBatch = 0\n",
    "\n",
    "        #yield the remaining of the batch\n",
    "        if nInBatch > 0:\n",
    "            yield np.array(batch), np.array(labelList)\n",
    "\n",
    "    \n",
    "trainSetSize = getDatasetSize(\"train\")\n",
    "valSetSize = getDatasetSize(\"val\")\n",
    "testSetSize = getDatasetSize(\"test\")\n",
    "\n",
    "print(\"# images in Train set: \", trainSetSize)\n",
    "print(\"# images in Val set: \", valSetSize)\n",
    "print(\"# images in Test set: \", testSetSize)"
   ]
  },
  {
   "cell_type": "markdown",
   "metadata": {},
   "source": [
    "## Definição do modelo base da SqueezeNet\n",
    "As funções abaixo criam o modelo da SqueezeNet e carregam os seus pesos treinados no ImageNet."
   ]
  },
  {
   "cell_type": "code",
   "execution_count": 11,
   "metadata": {},
   "outputs": [],
   "source": [
    "# Fire Module Definition\n",
    "sq1x1 = \"squeeze1x1\"\n",
    "exp1x1 = \"expand1x1\"\n",
    "exp3x3 = \"expand3x3\"\n",
    "relu = \"relu_\"\n",
    "\n",
    "def fire_module(x, fire_id, squeeze=16, expand=64):\n",
    "    s_id = 'fire' + str(fire_id) + '/'\n",
    "\n",
    "    channel_axis = 3\n",
    "    \n",
    "    x = Convolution2D(squeeze, (1, 1), padding='valid', name=s_id + sq1x1)(x)\n",
    "    x = Activation('relu', name=s_id + relu + sq1x1)(x)\n",
    "\n",
    "    left = Convolution2D(expand, (1, 1), padding='valid', name=s_id + exp1x1)(x)\n",
    "    left = Activation('relu', name=s_id + relu + exp1x1)(left)\n",
    "\n",
    "    right = Convolution2D(expand, (3, 3), padding='same', name=s_id + exp3x3)(x)\n",
    "    right = Activation('relu', name=s_id + relu + exp3x3)(right)\n",
    "\n",
    "    x = concatenate([left, right], axis=channel_axis, name=s_id + 'concat')\n",
    "    return x\n",
    "\n",
    "#SqueezeNet model definition\n",
    "def SqueezeNet(input_shape):\n",
    "    img_input = Input(shape=input_shape) #placeholder\n",
    "    \n",
    "    x = Convolution2D(64, (3, 3), strides=(2, 2), padding='valid', name='conv1')(img_input)\n",
    "    x = Activation('relu', name='relu_conv1')(x)\n",
    "    x = MaxPooling2D(pool_size=(3, 3), strides=(2, 2), name='pool1')(x)\n",
    "\n",
    "    x = fire_module(x, fire_id=2, squeeze=16, expand=64)\n",
    "    x = fire_module(x, fire_id=3, squeeze=16, expand=64)\n",
    "    x = MaxPooling2D(pool_size=(3, 3), strides=(2, 2), name='pool3')(x)\n",
    "\n",
    "    x = fire_module(x, fire_id=4, squeeze=32, expand=128)\n",
    "    x = fire_module(x, fire_id=5, squeeze=32, expand=128)\n",
    "    x = MaxPooling2D(pool_size=(3, 3), strides=(2, 2), name='pool5')(x)\n",
    "\n",
    "    x = fire_module(x, fire_id=6, squeeze=48, expand=192)\n",
    "    x = fire_module(x, fire_id=7, squeeze=48, expand=192)\n",
    "    x = fire_module(x, fire_id=8, squeeze=64, expand=256)\n",
    "    x = fire_module(x, fire_id=9, squeeze=64, expand=256)\n",
    "    \n",
    "    x = Dropout(0.5, name='drop9')(x)\n",
    "\n",
    "    x = Convolution2D(1000, (1, 1), padding='valid', name='conv10')(x)\n",
    "    x = Activation('relu', name='relu_conv10')(x)\n",
    "    x = GlobalAveragePooling2D()(x)\n",
    "    x = Activation('softmax', name='loss')(x)\n",
    "\n",
    "    model = Model(img_input, x, name='squeezenet')\n",
    "\n",
    "    # Download and load ImageNet weights\n",
    "    model.load_weights('./squeezenet_weights_tf_dim_ordering_tf_kernels.h5')\n",
    "    \n",
    "    return model    "
   ]
  },
  {
   "cell_type": "code",
   "execution_count": 15,
   "metadata": {},
   "outputs": [
    {
     "name": "stdout",
     "output_type": "stream",
     "text": [
      "(5, 100, 100, 3) (5, 10)\n"
     ]
    }
   ],
   "source": [
    "for batch, labels in loadDatasetInBatches(split='train', batch_size=5):\n",
    "    print(batch.shape, labels.shape)\n",
    "    #plotImagesFromBatch(batch)\n",
    "    break"
   ]
  },
  {
   "cell_type": "markdown",
   "metadata": {},
   "source": [
    "### Como o load do dados é feito...  \n",
    "O método que iremos utilizar para ler os dados é o `loadDatasetInBatches(split='train', batch_size=32)`. Ele é um generator (semelhante ao método que fazia a aumentação de dados na Aula 03), ou seja, ele gera um fluxo de batches e labels a partir do nosso dataset.\n",
    "\n",
    "**Argumentos**:\n",
    "- (string) **split**: pode ser `'train'`, `'val'` ou `'test'`. Se refere a qual conjunto de dados que iremos ler (treino, validação ou teste);\n",
    "- (int) **batch_size**: quantas imagens por batch;\n",
    "\n",
    "**Retorno**: \n",
    "- **batch**: retorna um array do numpy com as imagens carregadas e pre-processadas. **batch** tem dimensões (batch_size, 227, 227, 3), pois as imagens tem tamanho 227x227 e tem 3 canais (RGB);\n",
    "- **labels**: retorna um array do numpy com as labels já transformadas em one_hot_encode (array de 83 dimensões, com 1 na posição do índice da classe e 0 nas outras posições). **batch** tem dimensões (batch_size, 83);\n",
    "    \n",
    "Utilizando o argumento `split`, o método lê os nomes das imagens do diretório correto e as embaralha (para garantir que a cada época os batches sejam diferentes). Para cada época (um loop do `for` interno), o método irá carregar uma imagem por vez e irá gerar a sua label (obtendo a classe pelo próprio nome da imagem). Esta imagem/label será colocada em listas **batch/labelList**.\n",
    "\n",
    "Quando estas listas estiverem com **batch_size** elementos, teremos gerado um batch. O método dá um yield nessas duas e recomeça a construção de um novo batch. Quando o `for` terminar, iremos ter completado uma época. O `while True` apenas garante uma nova época seja iniciada. Quem controlará o fim do `while` vai ser o método que fará o fit, portanto não precisamos nos preocupar com isso.  "
   ]
  },
  {
   "cell_type": "markdown",
   "metadata": {},
   "source": [
    "-----------\n",
    "-----------\n",
    "-----------\n",
    "** -----> A tarefa começa aqui !!! Vocês não precisam modificar nada dos códigos acima!** \n",
    "\n",
    "# Definição do modelo [0.25 pts]\n",
    "\n",
    "- Instancie o modelo base da SqueezeNet;\n",
    "- Escolha qual camada da rede que você utilizará como ponto de partida (..., fire8, fire9, drop9);\n",
    "- Escolha quais camadas terão os pesos atualizados e quais serão congeladas;\n",
    "- Adicione as camadas adicionais no topo da rede. Vocês estão livres em relação à quantidade e tipo de camadas após a SqueezeNet.\n",
    "    - Lembrem-se que ao final da rede, precisamos de camadas de classificação:\n",
    "        - Conv2D + GlobalAveragePooling + SoftMax (aula 05)\n",
    "        - Flatten + Dense + SoftMax (aulas anteriores)\n",
    "    - Se acharem necessário, podem também adicionar outras camadas (Dropout, Conv2D, módulos Fire);\n",
    "    \n",
    "    \n",
    "**Não se esqueçam de:**\n",
    "- Definir novas camadas da mesma forma que fizemos na Aula 05 (utilizando o x = ...(x))\n",
    "- Ao final da célula, definir o modelo novo com o input da squeeze base e o output da última camada adicionada"
   ]
  },
  {
   "cell_type": "code",
   "execution_count": 17,
   "metadata": {},
   "outputs": [],
   "source": [
    "# Definir o modelo base da squeezeNet \n",
    "squeezeNetModel = SqueezeNet((100,100,3))\n",
    "\n",
    "# Escolher a camada que será o ponto de partida \n",
    "x = squeezeNetModel.get_layer(name=\"fire9/concat\").output\n",
    "\n",
    "#print([layer.name for layer in squeezeNetModel.layers])\n",
    "#print(\"\\n\\nFreeze layers up until \", squeezeNetModel.layers[-20].name)\n",
    "\n",
    "for layer in squeezeNetModel.layers:\n",
    "    layer.trainable = True#        layer.trainable = False\n",
    "\n",
    "x = Convolution2D(1024, (1, 1), padding='valid', name='conv10_new')(x)\n",
    "x = Activation('relu', name='relu_conv10_new')(x)\n",
    "x = Dropout(0.5)(x)\n",
    "x = Convolution2D(nbClasses, (1, 1), padding='valid', name='conv11_new')(x)\n",
    "x = Activation('relu', name='relu_conv11_new')(x)\n",
    "x = GlobalAveragePooling2D()(x)\n",
    "x = Activation('softmax', name='loss_new')(x)\n",
    "\n",
    "\n",
    "# Não se esqueça de definir o nome modelo, onde baseSqueezeNetModel \n",
    "# é o modelo base da Squeeze que vc definiu ali em cima\n",
    "model = Model(squeezeNetModel.inputs, x, name='squeezenet_new')"
   ]
  },
  {
   "cell_type": "markdown",
   "metadata": {},
   "source": [
    "# Treinamento [0.25 pts]\n",
    "\n",
    "- Compile o seu modelo, definindo qual a loss e otimizador que serão utilizados;\n",
    "- Defina também número de batches e número de épocas;\n",
    "- Treine para obter a maior acurácia que você conseguirem;\n",
    "\n",
    "\n",
    "No treinamento iremos utilizar o `fit_generator` (mesmo utilizado no Aula03 com Data Augmentation). Ele recebe um generator (que será fornecido pelo `loadDatasetInBatches`). Como o generator retorna um fluxo de batches/labels, o `fit_generator` não tem informação sobre o tamanho dataset. Por isso, precisamos informar o número de épocas (parâmetro `epochs`) e também quantos batches compõe uma época (parâmetro `steps_per_epoch`). Ao total, teremos 2 generators, um para o conjunto de treino e outro para o conjunto de teste.\n",
    "\n",
    "Para mais informações sobre o fit_generator e seus parâmetros, [acesse a documentação do Keras](https://keras.io/models/sequential/#fit_generator)."
   ]
  },
  {
   "cell_type": "code",
   "execution_count": 18,
   "metadata": {},
   "outputs": [],
   "source": [
    "from keras.optimizers import SGD, Adam\n",
    "#Compile o modelo\n",
    "model.compile(loss='categorical_crossentropy', optimizer=Adam(lr=0.00001), metrics=['accuracy'])\n",
    "#model.compile(loss='categorical_crossentropy', optimizer='adadelta', metrics=['accuracy'])\n",
    "#model.compile(loss='categorical_crossentropy', optimizer=SGD(lr=0.0001, decay=1e-6, momentum=0.9, nesterov=True), metrics=['accuracy'])\n",
    "\n",
    "import keras.callbacks as callbacks\n",
    "\n",
    "tbCallBack = callbacks.TensorBoard(log_dir = \"./logs_squeeze8\")\n",
    "tbEarly = callbacks.EarlyStopping(monitor='val_acc',min_delta=0,patience=10,verbose=0, mode='auto')"
   ]
  },
  {
   "cell_type": "code",
   "execution_count": 19,
   "metadata": {},
   "outputs": [
    {
     "name": "stdout",
     "output_type": "stream",
     "text": [
      "Epoch 1/10\n",
      "38/38 [==============================] - 12s 306ms/step - loss: 2.3643 - acc: 0.1201 - val_loss: 2.2603 - val_acc: 0.1181\n",
      "Epoch 2/10\n",
      "38/38 [==============================] - 4s 113ms/step - loss: 2.2604 - acc: 0.1819 - val_loss: 2.1818 - val_acc: 0.2535\n",
      "Epoch 3/10\n",
      "38/38 [==============================] - 9s 240ms/step - loss: 2.1013 - acc: 0.2846 - val_loss: 1.9698 - val_acc: 0.3472\n",
      "Epoch 4/10\n",
      "38/38 [==============================] - 8s 212ms/step - loss: 1.9414 - acc: 0.3586 - val_loss: 1.8659 - val_acc: 0.3451\n",
      "Epoch 5/10\n",
      "38/38 [==============================] - 5s 137ms/step - loss: 1.7180 - acc: 0.4595 - val_loss: 1.3797 - val_acc: 0.6146\n",
      "Epoch 6/10\n",
      "38/38 [==============================] - 8s 223ms/step - loss: 1.3247 - acc: 0.6083 - val_loss: 0.9856 - val_acc: 0.7676\n",
      "Epoch 7/10\n",
      "38/38 [==============================] - 9s 248ms/step - loss: 0.9409 - acc: 0.7278 - val_loss: 0.6395 - val_acc: 0.8125\n",
      "Epoch 8/10\n",
      "38/38 [==============================] - 10s 273ms/step - loss: 0.6785 - acc: 0.7989 - val_loss: 0.4358 - val_acc: 0.8908\n",
      "Epoch 9/10\n",
      "38/38 [==============================] - 8s 213ms/step - loss: 0.5146 - acc: 0.8392 - val_loss: 0.3542 - val_acc: 0.9132\n",
      "Epoch 10/10\n",
      "38/38 [==============================] - 11s 289ms/step - loss: 0.3745 - acc: 0.8791 - val_loss: 0.2412 - val_acc: 0.9331\n"
     ]
    }
   ],
   "source": [
    "#Definir tamanho do batch e número de épocas\n",
    "batch_size = 32\n",
    "epochs = 10\n",
    "\n",
    "#Criação dos generators\n",
    "trainGenerator = loadDatasetInBatches(split='train', batch_size = batch_size)\n",
    "valGenerator = loadDatasetInBatches(split='val', batch_size = batch_size)\n",
    "\n",
    "#Fit nos dados\n",
    "hist = model.fit_generator(trainGenerator, \n",
    "                    steps_per_epoch= int(trainSetSize / batch_size), \n",
    "                    epochs = epochs,\n",
    "                    validation_data = valGenerator,  \n",
    "                    validation_steps = int(valSetSize / batch_size),\n",
    "                    callbacks=[tbCallBack, tbEarly])"
   ]
  },
  {
   "cell_type": "markdown",
   "metadata": {},
   "source": [
    "# Teste [0.25 pts]\n",
    "O teste será feito da mesma forma, utilizando `loadDatasetInBatches` para o conjunto de teste. "
   ]
  },
  {
   "cell_type": "code",
   "execution_count": 20,
   "metadata": {},
   "outputs": [
    {
     "name": "stdout",
     "output_type": "stream",
     "text": [
      "15/15 [==============================] - 1s 68ms/step\n",
      "Test Loss --->  0.25968929678201674\n",
      "Test Accuracy --->  0.925\n"
     ]
    }
   ],
   "source": [
    "#Criação do generator p/ o conjunto de teste\n",
    "testGenerator = loadDatasetInBatches(split='test', batch_size=batch_size)\n",
    "\n",
    "#Teste\n",
    "metrics = model.evaluate_generator(testGenerator, \n",
    "                                   steps=int(testSetSize/batch_size), \n",
    "                                   verbose=1)\n",
    "\n",
    "print(\"Test Loss ---> \", metrics[0])\n",
    "print(\"Test Accuracy ---> \", metrics[1])    #Test is balanced, so Acc is normalized"
   ]
  },
  {
   "cell_type": "markdown",
   "metadata": {},
   "source": [
    "# Conclusões  [0.25 pts]\n",
    "Escrevam um parágrafo com as conclusões que vocês tiraram na tarefa. Comentem as dificuldades encontradas, as tentativas feitas, como foi o seu treinamento, apontando a motivação pelas decisões tomadas. Se o resultado ficou melhor/pior do que o que você esperava, o que você acha que pode ter acontecido?"
   ]
  },
  {
   "cell_type": "code",
   "execution_count": null,
   "metadata": {},
   "outputs": [],
   "source": []
  }
 ],
 "metadata": {
  "kernelspec": {
   "display_name": "Python 3",
   "language": "python",
   "name": "python3"
  },
  "language_info": {
   "codemirror_mode": {
    "name": "ipython",
    "version": 3
   },
   "file_extension": ".py",
   "mimetype": "text/x-python",
   "name": "python",
   "nbconvert_exporter": "python",
   "pygments_lexer": "ipython3",
   "version": "3.6.5"
  }
 },
 "nbformat": 4,
 "nbformat_minor": 2
}
