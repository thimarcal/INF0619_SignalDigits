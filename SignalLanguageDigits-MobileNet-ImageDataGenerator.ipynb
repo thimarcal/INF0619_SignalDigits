{
 "cells": [
  {
   "cell_type": "markdown",
   "metadata": {},
   "source": [
    "# Trabalho Final\n",
    "Neste trabalho, vamos buscar o reconhecimento dos dígitos da Linguagem de Sinais. Para tal, vamos nos utilizar de Modelos conhecidos de Deep Learning e também nos aventurar na criação de próprios.\n",
    "\n",
    "------\n",
    "\n",
    "## Imports"
   ]
  },
  {
   "cell_type": "code",
   "execution_count": null,
   "metadata": {},
   "outputs": [],
   "source": [
    "#from tensorflow.python.client import device_lib\n",
    "#print(device_lib.list_local_devices())"
   ]
  },
  {
   "cell_type": "code",
   "execution_count": 20,
   "metadata": {},
   "outputs": [],
   "source": [
    "import os\n",
    "import numpy as np\n",
    "from random import sample, seed\n",
    "seed(42)\n",
    "np.random.seed(42)\n",
    "\n",
    "import matplotlib.pyplot as plt\n",
    "plt.rcParams['figure.figsize'] = (15,15) # Make the figures a bit bigger\n",
    "\n",
    "# Keras imports\n",
    "from keras.layers import Input, Convolution2D, MaxPooling2D, Activation, concatenate, Dropout, GlobalAveragePooling2D, Dense, Flatten\n",
    "from keras.models import Model\n",
    "from keras.utils import np_utils\n",
    "from keras.preprocessing.image import load_img, img_to_array, ImageDataGenerator\n",
    "\n",
    "from keras.applications.mobilenet import MobileNet\n",
    "from keras.applications.mobilenet import preprocess_input, decode_predictions\n",
    "\n",
    "import inf619utils"
   ]
  },
  {
   "cell_type": "markdown",
   "metadata": {},
   "source": [
    "# Dataset\n",
    "O dataset é composto por 10 classes (dígitos de 0 a 9) com aproximadamente 205 imagens por classe. \n",
    "O conjunto foi dividido em 60% para treinamento, 15% para validação e 20% para teste.\n",
    "As imagens estão divididas em blocos por classe.\n",
    "\n",
    "** IMPORTANTE NÃO ALTERAR O NOME/LOCAL DAS IMAGENS** "
   ]
  },
  {
   "cell_type": "code",
   "execution_count": 3,
   "metadata": {},
   "outputs": [],
   "source": [
    "keras_model_file = 'keras_mobilenet.h5'\n",
    "\n",
    "datasetDir = \"./Dataset\"\n",
    "datasetDirSplitted = \"./DatasetSplitted\"\n",
    "nbClasses = 10\n",
    "input_shape = (224,224,3)\n",
    "input_size = (224,224)\n",
    "\n",
    "train_files = {}\n",
    "val_files = {}\n",
    "test_files = {}\n",
    "\n",
    "train_files, val_files, test_files = inf619utils.splitData(datasetDir, nbClasses)"
   ]
  },
  {
   "cell_type": "code",
   "execution_count": 4,
   "metadata": {},
   "outputs": [],
   "source": [
    "#plot the images from imgList\n",
    "def plotImagesFromBatch(imgList):\n",
    "    for i in range(len(imgList)):\n",
    "        plotImage(imgList[i])\n",
    "\n",
    "\n",
    "# Se quiser visualizar algum bloco de imagens, descomentar as linhas abaixo\n",
    "# inf619utils.plotImages(val_files)\n",
    "# inf619utils.plotImages(train_files)\n",
    "# inf619utils.plotImages(test_files)"
   ]
  },
  {
   "cell_type": "markdown",
   "metadata": {},
   "source": [
    "## Definição do modelo "
   ]
  },
  {
   "cell_type": "code",
   "execution_count": 4,
   "metadata": {},
   "outputs": [],
   "source": [
    "model = MobileNet(input_shape=input_shape, classes=nbClasses, include_top=False)\n",
    "#model.summary()"
   ]
  },
  {
   "cell_type": "markdown",
   "metadata": {},
   "source": [
    "\n",
    "# Modificação do modelo "
   ]
  },
  {
   "cell_type": "code",
   "execution_count": 5,
   "metadata": {},
   "outputs": [],
   "source": [
    "# Escolher a camada que será o ponto de partida \n",
    "x = model.output\n",
    "\n",
    "#print([layer.name for layer in squeezeNetModel.layers])\n",
    "#print(\"\\n\\nFreeze layers up until \", squeezeNetModel.layers[-20].name)\n",
    "\n",
    "for layer in model.layers:\n",
    "    layer.trainable = True#        layer.trainable = False\n",
    "\n",
    "x = Flatten()(x)\n",
    "x = Dense(10, activation='softmax')(x)\n",
    "\n",
    "\n",
    "# Não se esqueça de definir o nome modelo, onde baseSqueezeNetModel \n",
    "# é o modelo base da Squeeze que vc definiu ali em cima\n",
    "model = Model(model.inputs, x, name='mobilenet_new_adam')\n",
    "#model2 = Model(squeezeNetModel.inputs, x, name='squeezenet_new_adadelta')\n",
    "#model3 = Model(squeezeNetModel.inputs, x, name='squeezenet_new_sgd')"
   ]
  },
  {
   "cell_type": "markdown",
   "metadata": {},
   "source": [
    "# Treinamento do Modelo"
   ]
  },
  {
   "cell_type": "code",
   "execution_count": 6,
   "metadata": {},
   "outputs": [],
   "source": [
    "#Definir tamanho do batch e número de épocas\n",
    "batch_size = 24\n",
    "epochs = 30"
   ]
  },
  {
   "cell_type": "code",
   "execution_count": 7,
   "metadata": {},
   "outputs": [],
   "source": [
    "from keras.optimizers import SGD, Adam\n",
    "#Compile o modelo\n",
    "model.compile(loss='categorical_crossentropy', optimizer=Adam(lr=0.0001), metrics=['accuracy'])\n",
    "\n",
    "import keras.callbacks as callbacks\n",
    "\n",
    "tbCallBack = callbacks.TensorBoard(log_dir = \"./logs_mobilenet\")\n",
    "tbEarly = callbacks.EarlyStopping(monitor='val_acc',min_delta=0,patience=3,verbose=0, mode='auto')\n",
    "tbEarly100 = callbacks.EarlyStopping(monitor='acc', min_delta=0.0001, patience=3, mode='max')\n",
    "tbModelChk = callbacks.ModelCheckpoint('.modelmobilenet_weights.hdf5', save_best_only=True, monitor='val_acc', mode='max')\n"
   ]
  },
  {
   "cell_type": "code",
   "execution_count": 8,
   "metadata": {},
   "outputs": [
    {
     "name": "stdout",
     "output_type": "stream",
     "text": [
      "Found 1242 images belonging to 10 classes.\n",
      "Found 309 images belonging to 10 classes.\n"
     ]
    }
   ],
   "source": [
    "train_datagen = ImageDataGenerator(\n",
    "        rescale=1./255,\n",
    "        shear_range=0.2,\n",
    "        zoom_range=0.2,\n",
    "        horizontal_flip=True)\n",
    "\n",
    "val_datagen = ImageDataGenerator(rescale=1./255)\n",
    "\n",
    "train_generator = train_datagen.flow_from_directory(\n",
    "        datasetDirSplitted + '\\\\train',\n",
    "        target_size=input_size,\n",
    "        batch_size=batch_size,\n",
    "        class_mode='categorical')\n",
    "\n",
    "validation_generator = val_datagen.flow_from_directory(\n",
    "        datasetDirSplitted + '\\\\val',\n",
    "        target_size=input_size,\n",
    "        batch_size=batch_size,\n",
    "        class_mode='categorical')"
   ]
  },
  {
   "cell_type": "code",
   "execution_count": 9,
   "metadata": {},
   "outputs": [
    {
     "name": "stdout",
     "output_type": "stream",
     "text": [
      "Epoch 1/30\n",
      "51/51 [==============================] - 124s 2s/step - loss: 3.0517 - acc: 0.2247 - val_loss: 2.1648 - val_acc: 0.3924\n",
      "Epoch 2/30\n",
      "51/51 [==============================] - 113s 2s/step - loss: 1.6997 - acc: 0.4599 - val_loss: 1.5302 - val_acc: 0.5439\n",
      "Epoch 3/30\n",
      "51/51 [==============================] - 112s 2s/step - loss: 1.1599 - acc: 0.6100 - val_loss: 0.9839 - val_acc: 0.6632\n",
      "Epoch 4/30\n",
      "51/51 [==============================] - 112s 2s/step - loss: 0.8837 - acc: 0.7072 - val_loss: 0.7540 - val_acc: 0.7404\n",
      "Epoch 5/30\n",
      "51/51 [==============================] - 112s 2s/step - loss: 0.6620 - acc: 0.7767 - val_loss: 0.7736 - val_acc: 0.7614\n",
      "Epoch 6/30\n",
      "51/51 [==============================] - 112s 2s/step - loss: 0.5997 - acc: 0.7922 - val_loss: 0.7237 - val_acc: 0.7719\n",
      "Epoch 7/30\n",
      "51/51 [==============================] - 112s 2s/step - loss: 0.4634 - acc: 0.8331 - val_loss: 0.4851 - val_acc: 0.8351\n",
      "Epoch 8/30\n",
      "51/51 [==============================] - 112s 2s/step - loss: 0.3660 - acc: 0.8668 - val_loss: 0.5003 - val_acc: 0.8526\n",
      "Epoch 9/30\n",
      "51/51 [==============================] - 111s 2s/step - loss: 0.3455 - acc: 0.8810 - val_loss: 0.4944 - val_acc: 0.8596\n",
      "Epoch 10/30\n",
      "51/51 [==============================] - 112s 2s/step - loss: 0.2991 - acc: 0.8870 - val_loss: 0.4473 - val_acc: 0.8877\n",
      "Epoch 11/30\n",
      "51/51 [==============================] - 112s 2s/step - loss: 0.2544 - acc: 0.9039 - val_loss: 0.4092 - val_acc: 0.8877\n",
      "Epoch 12/30\n",
      "51/51 [==============================] - 112s 2s/step - loss: 0.2426 - acc: 0.9172 - val_loss: 0.3645 - val_acc: 0.8982\n",
      "Epoch 13/30\n",
      "51/51 [==============================] - 112s 2s/step - loss: 0.1923 - acc: 0.9363 - val_loss: 0.3589 - val_acc: 0.8947\n",
      "Epoch 14/30\n",
      "51/51 [==============================] - 112s 2s/step - loss: 0.1783 - acc: 0.9431 - val_loss: 0.3820 - val_acc: 0.8958\n",
      "Epoch 15/30\n",
      "51/51 [==============================] - 112s 2s/step - loss: 0.1613 - acc: 0.9510 - val_loss: 0.3238 - val_acc: 0.9088\n",
      "Epoch 16/30\n",
      "51/51 [==============================] - 112s 2s/step - loss: 0.1414 - acc: 0.9534 - val_loss: 0.3229 - val_acc: 0.9298\n",
      "Epoch 17/30\n",
      "51/51 [==============================] - 111s 2s/step - loss: 0.1424 - acc: 0.9589 - val_loss: 0.3254 - val_acc: 0.8667\n",
      "Epoch 18/30\n",
      "51/51 [==============================] - 112s 2s/step - loss: 0.1264 - acc: 0.9619 - val_loss: 0.2118 - val_acc: 0.9333\n",
      "Epoch 19/30\n",
      "51/51 [==============================] - 112s 2s/step - loss: 0.1066 - acc: 0.9695 - val_loss: 0.3762 - val_acc: 0.9088\n",
      "Epoch 20/30\n",
      "51/51 [==============================] - 112s 2s/step - loss: 0.1160 - acc: 0.9611 - val_loss: 0.2307 - val_acc: 0.9263\n",
      "Epoch 21/30\n",
      "51/51 [==============================] - 112s 2s/step - loss: 0.0978 - acc: 0.9657 - val_loss: 0.3054 - val_acc: 0.9193\n"
     ]
    }
   ],
   "source": [
    "#Fit nos dados\n",
    "#Fit nos dados\n",
    "hist = model.fit_generator(train_generator, \n",
    "                    steps_per_epoch= int(1242/batch_size), \n",
    "                    epochs = epochs,\n",
    "                    validation_data = validation_generator,  \n",
    "                    validation_steps = int(309/batch_size),\n",
    "                    callbacks=[tbCallBack, tbEarly, tbEarly100, tbModelChk])"
   ]
  },
  {
   "cell_type": "code",
   "execution_count": 10,
   "metadata": {},
   "outputs": [],
   "source": [
    "model.save(keras_model_file)"
   ]
  },
  {
   "cell_type": "code",
   "execution_count": null,
   "metadata": {},
   "outputs": [],
   "source": [
    "del model"
   ]
  },
  {
   "cell_type": "markdown",
   "metadata": {},
   "source": [
    "# Aplicação do Modelo no Conjunto de Testes"
   ]
  },
  {
   "cell_type": "code",
   "execution_count": 5,
   "metadata": {},
   "outputs": [],
   "source": [
    "# Load Best weights saved\n",
    "from keras.utils.generic_utils import CustomObjectScope\n",
    "from keras.applications.mobilenet import DepthwiseConv2D, relu6\n",
    "from keras.models import load_model\n",
    "\n",
    "with CustomObjectScope({'relu6': relu6,'DepthwiseConv2D': DepthwiseConv2D}):\n",
    "    model = load_model(keras_model_file)"
   ]
  },
  {
   "cell_type": "code",
   "execution_count": 6,
   "metadata": {},
   "outputs": [
    {
     "name": "stdout",
     "output_type": "stream",
     "text": [
      "Found 511 images belonging to 10 classes.\n"
     ]
    }
   ],
   "source": [
    "test_datagen = ImageDataGenerator(rescale=1./255)\n",
    "\n",
    "test_generator = test_datagen.flow_from_directory(\n",
    "        datasetDirSplitted + '\\\\test',\n",
    "        target_size=input_size,\n",
    "        class_mode='categorical',\n",
    "        shuffle=None)"
   ]
  },
  {
   "cell_type": "code",
   "execution_count": 18,
   "metadata": {},
   "outputs": [
    {
     "name": "stdout",
     "output_type": "stream",
     "text": [
      "Test Loss MobileNet--->  0.26169243418482185\n",
      "Test Accuracy MobileNet--->  0.9138943252031584\n"
     ]
    }
   ],
   "source": [
    "#Criação do generator p/ o conjunto de teste\n",
    "\n",
    "#Teste\n",
    "metrics = model.evaluate_generator(test_generator)\n",
    "\n",
    "print(\"Test Loss MobileNet---> \", metrics[0])\n",
    "print(\"Test Accuracy MobileNet---> \", metrics[1])    #Test is balanced, so Acc is normalized"
   ]
  },
  {
   "cell_type": "markdown",
   "metadata": {},
   "source": [
    "# Gerar matrix de confusão"
   ]
  },
  {
   "cell_type": "code",
   "execution_count": 8,
   "metadata": {},
   "outputs": [],
   "source": [
    "predictions = model.predict_generator(test_generator)\n",
    "# Get most likely class\n",
    "predicted_classes = np.argmax(predictions, axis=1)"
   ]
  },
  {
   "cell_type": "code",
   "execution_count": 9,
   "metadata": {},
   "outputs": [],
   "source": [
    "true_classes = test_generator.classes\n",
    "class_labels = list(test_generator.class_indices.keys())   "
   ]
  },
  {
   "cell_type": "code",
   "execution_count": 10,
   "metadata": {},
   "outputs": [
    {
     "name": "stdout",
     "output_type": "stream",
     "text": [
      "              precision    recall  f1-score   support\n",
      "\n",
      "           0       0.98      1.00      0.99        51\n",
      "           1       0.91      0.96      0.93        51\n",
      "           2       0.82      0.90      0.86        51\n",
      "           3       0.96      0.92      0.94        51\n",
      "           4       0.87      0.94      0.91        51\n",
      "           5       0.98      1.00      0.99        51\n",
      "           6       0.93      0.78      0.85        51\n",
      "           7       0.82      0.92      0.87        51\n",
      "           8       0.90      0.87      0.88        52\n",
      "           9       1.00      0.84      0.91        51\n",
      "\n",
      "   micro avg       0.91      0.91      0.91       511\n",
      "   macro avg       0.92      0.91      0.91       511\n",
      "weighted avg       0.92      0.91      0.91       511\n",
      "\n"
     ]
    }
   ],
   "source": [
    "from sklearn.metrics import classification_report\n",
    "\n",
    "report = classification_report(true_classes, predicted_classes, target_names=class_labels)\n",
    "print(report) "
   ]
  },
  {
   "cell_type": "code",
   "execution_count": 11,
   "metadata": {},
   "outputs": [
    {
     "data": {
      "text/plain": [
       "array([[51,  0,  0,  0,  0,  0,  0,  0,  0,  0],\n",
       "       [ 0, 49,  2,  0,  0,  0,  0,  0,  0,  0],\n",
       "       [ 0,  4, 46,  0,  0,  0,  1,  0,  0,  0],\n",
       "       [ 0,  0,  3, 47,  0,  1,  0,  0,  0,  0],\n",
       "       [ 0,  0,  0,  0, 48,  0,  2,  1,  0,  0],\n",
       "       [ 0,  0,  0,  0,  0, 51,  0,  0,  0,  0],\n",
       "       [ 0,  0,  3,  0,  5,  0, 40,  3,  0,  0],\n",
       "       [ 0,  1,  0,  1,  0,  0,  0, 47,  2,  0],\n",
       "       [ 1,  0,  1,  1,  1,  0,  0,  3, 45,  0],\n",
       "       [ 0,  0,  1,  0,  1,  0,  0,  3,  3, 43]], dtype=int64)"
      ]
     },
     "execution_count": 11,
     "metadata": {},
     "output_type": "execute_result"
    }
   ],
   "source": [
    "from sklearn.metrics import confusion_matrix\n",
    "\n",
    "confusion_matrix(true_classes, predicted_classes)"
   ]
  },
  {
   "cell_type": "code",
   "execution_count": 26,
   "metadata": {},
   "outputs": [
    {
     "name": "stdout",
     "output_type": "stream",
     "text": [
      "Classification report\n",
      "              precision    recall  f1-score   support\n",
      "\n",
      "           0       0.98      1.00      0.99        51\n",
      "           1       0.91      0.96      0.93        51\n",
      "           2       0.82      0.90      0.86        51\n",
      "           3       0.96      0.92      0.94        51\n",
      "           4       0.87      0.94      0.91        51\n",
      "           5       0.98      1.00      0.99        51\n",
      "           6       0.93      0.78      0.85        51\n",
      "           7       0.82      0.92      0.87        51\n",
      "           8       0.90      0.87      0.88        52\n",
      "           9       1.00      0.84      0.91        51\n",
      "\n",
      "   micro avg       0.91      0.91      0.91       511\n",
      "   macro avg       0.92      0.91      0.91       511\n",
      "weighted avg       0.92      0.91      0.91       511\n",
      "\n",
      "Normalized confusion matrix\n",
      "[[100.     0.     0.     0.     0.     0.     0.     0.     0.     0.  ]\n",
      " [  0.    96.08   3.92   0.     0.     0.     0.     0.     0.     0.  ]\n",
      " [  0.     7.84  90.2    0.     0.     0.     1.96   0.     0.     0.  ]\n",
      " [  0.     0.     5.88  92.16   0.     1.96   0.     0.     0.     0.  ]\n",
      " [  0.     0.     0.     0.    94.12   0.     3.92   1.96   0.     0.  ]\n",
      " [  0.     0.     0.     0.     0.   100.     0.     0.     0.     0.  ]\n",
      " [  0.     0.     5.88   0.     9.8    0.    78.43   5.88   0.     0.  ]\n",
      " [  0.     1.96   0.     1.96   0.     0.     0.    92.16   3.92   0.  ]\n",
      " [  1.92   0.     1.92   1.92   1.92   0.     0.     5.77  86.54   0.  ]\n",
      " [  0.     0.     1.96   0.     1.96   0.     0.     5.88   5.88  84.31]]\n"
     ]
    },
    {
     "data": {
      "image/png": "[encoded data removed]",
      "text/plain": [
       "<matplotlib.figure.Figure at 0x19090c20d68>"
      ]
     },
     "metadata": {
      "needs_background": "light"
     },
     "output_type": "display_data"
    }
   ],
   "source": [
    "plot_confusion(true_classes, predicted_classes, \"MobileNet\")"
   ]
  },
  {
   "cell_type": "markdown",
   "metadata": {},
   "source": [
    "# Salvar modelo TensorflowJS (Linux)"
   ]
  },
  {
   "cell_type": "code",
   "execution_count": null,
   "metadata": {},
   "outputs": [],
   "source": [
    "#import tensorflowjs as tfjs\n",
    "#tfjs.converters.save_keras_model(model, tfjs_target_dir)"
   ]
  },
  {
   "cell_type": "markdown",
   "metadata": {},
   "source": [
    "# Salvar modelo TensorflowLite (Linux)"
   ]
  },
  {
   "cell_type": "code",
   "execution_count": null,
   "metadata": {},
   "outputs": [],
   "source": [
    "#from tensorflow.contrib import lite\n",
    "\n",
    "#converter = lite.TocoConverter.from_keras_model_file(keras_model_file)\n",
    "#tflite_model = converter.convert()\n",
    "#open(\"resnet.tflite\", \"wb\").write(tflite_model)"
   ]
  }
 ],
 "metadata": {
  "kernelspec": {
   "display_name": "Python 3",
   "language": "python",
   "name": "python3"
  },
  "language_info": {
   "codemirror_mode": {
    "name": "ipython",
    "version": 3
   },
   "file_extension": ".py",
   "mimetype": "text/x-python",
   "name": "python",
   "nbconvert_exporter": "python",
   "pygments_lexer": "ipython3",
   "version": "3.6.7"
  }
 },
 "nbformat": 4,
 "nbformat_minor": 2
}
