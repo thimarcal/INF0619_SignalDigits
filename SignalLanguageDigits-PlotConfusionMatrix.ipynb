{
 "cells": [
  {
   "cell_type": "code",
   "execution_count": 1,
   "metadata": {},
   "outputs": [
    {
     "name": "stderr",
     "output_type": "stream",
     "text": [
      "Using TensorFlow backend.\n"
     ]
    }
   ],
   "source": [
    "import os\n",
    "import numpy as np\n",
    "from random import sample, seed\n",
    "seed(42)\n",
    "np.random.seed(42)\n",
    "\n",
    "import matplotlib.pyplot as plt\n",
    "plt.rcParams['figure.figsize'] = (15,15) # Make the figures a bit bigger\n",
    "\n",
    "# Keras imports\n",
    "from keras.layers import Input, Convolution2D, MaxPooling2D, Activation, concatenate, Dropout, GlobalAveragePooling2D\n",
    "from keras.models import Model\n",
    "from keras.utils import np_utils\n",
    "from keras.preprocessing.image import load_img, img_to_array, ImageDataGenerator\n",
    "from keras.models import load_model\n",
    "from sklearn.metrics import classification_report\n",
    "\n",
    "import inf619utils\n",
    "from inf619utils import plot_confusion"
   ]
  },
  {
   "cell_type": "code",
   "execution_count": 2,
   "metadata": {},
   "outputs": [],
   "source": [
    "#Read our dataset in batches\n",
    "def getDatasetLabels(dataset,nbClasses=10,shuffle=False):\n",
    "    fileNames = dataset\n",
    "    if shuffle == True:\n",
    "        imagePaths = sample(fileNames.keys(), len(fileNames))\n",
    "        #print(imagePaths)\n",
    "    else:\n",
    "        imagePaths = list(fileNames.keys())\n",
    "        #print(imagePaths)\n",
    "            \n",
    "    labelList = []\n",
    "\n",
    "    #loop of one epoch\n",
    "    for idx in list(range(len(imagePaths))):\n",
    "        label = np_utils.to_categorical(inf619utils.getLabelFromImgName(imagePaths[idx], dataset), nbClasses)\n",
    "\n",
    "        labelList.append(label)\n",
    "\n",
    "    return labelList"
   ]
  },
  {
   "cell_type": "code",
   "execution_count": 3,
   "metadata": {},
   "outputs": [],
   "source": [
    "datasetDir = \"./Dataset\"\n",
    "nbClasses = 10\n",
    "\n",
    "train_files = {}\n",
    "val_files = {}\n",
    "test_files = {}\n",
    "\n",
    "train_files, val_files, test_files = inf619utils.splitData(datasetDir, nbClasses)"
   ]
  },
  {
   "cell_type": "code",
   "execution_count": 4,
   "metadata": {
    "scrolled": true
   },
   "outputs": [
    {
     "name": "stdout",
     "output_type": "stream",
     "text": [
      "# images in Train set:  1242\n",
      "# images in Val set:  309\n",
      "# images in Test set:  511\n"
     ]
    }
   ],
   "source": [
    "trainSetSize = inf619utils.getDatasetSize(train_files)\n",
    "valSetSize = inf619utils.getDatasetSize(val_files)\n",
    "testSetSize = inf619utils.getDatasetSize(test_files)\n",
    "\n",
    "print(\"# images in Train set: \", trainSetSize)\n",
    "print(\"# images in Val set: \", valSetSize)\n",
    "print(\"# images in Test set: \", testSetSize)"
   ]
  },
  {
   "cell_type": "code",
   "execution_count": 5,
   "metadata": {},
   "outputs": [],
   "source": [
    "test_labels = getDatasetLabels(test_files)"
   ]
  },
  {
   "cell_type": "markdown",
   "metadata": {},
   "source": [
    "# Load SqueezeNet Model and Plot Confusion Matrix"
   ]
  },
  {
   "cell_type": "code",
   "execution_count": 30,
   "metadata": {},
   "outputs": [],
   "source": [
    "keras_model_file = 'squeezenet_sgd_986.h5'\n",
    "\n",
    "input_shape = (100,100,3)\n",
    "\n",
    "batch_size=1"
   ]
  },
  {
   "cell_type": "code",
   "execution_count": 31,
   "metadata": {},
   "outputs": [],
   "source": [
    "model = load_model(keras_model_file)"
   ]
  },
  {
   "cell_type": "code",
   "execution_count": 32,
   "metadata": {},
   "outputs": [
    {
     "name": "stdout",
     "output_type": "stream",
     "text": [
      "__________________________________________________________________________________________________\n",
      "Layer (type)                    Output Shape         Param #     Connected to                     \n",
      "==================================================================================================\n",
      "input_1 (InputLayer)            (None, 100, 100, 3)  0                                            \n",
      "__________________________________________________________________________________________________\n",
      "conv1 (Conv2D)                  (None, 49, 49, 64)   1792        input_1[0][0]                    \n",
      "__________________________________________________________________________________________________\n",
      "relu_conv1 (Activation)         (None, 49, 49, 64)   0           conv1[0][0]                      \n",
      "__________________________________________________________________________________________________\n",
      "pool1 (MaxPooling2D)            (None, 24, 24, 64)   0           relu_conv1[0][0]                 \n",
      "__________________________________________________________________________________________________\n",
      "fire2/squeeze1x1 (Conv2D)       (None, 24, 24, 16)   1040        pool1[0][0]                      \n",
      "__________________________________________________________________________________________________\n",
      "fire2/relu_squeeze1x1 (Activati (None, 24, 24, 16)   0           fire2/squeeze1x1[0][0]           \n",
      "__________________________________________________________________________________________________\n",
      "fire2/expand1x1 (Conv2D)        (None, 24, 24, 64)   1088        fire2/relu_squeeze1x1[0][0]      \n",
      "__________________________________________________________________________________________________\n",
      "fire2/expand3x3 (Conv2D)        (None, 24, 24, 64)   9280        fire2/relu_squeeze1x1[0][0]      \n",
      "__________________________________________________________________________________________________\n",
      "fire2/relu_expand1x1 (Activatio (None, 24, 24, 64)   0           fire2/expand1x1[0][0]            \n",
      "__________________________________________________________________________________________________\n",
      "fire2/relu_expand3x3 (Activatio (None, 24, 24, 64)   0           fire2/expand3x3[0][0]            \n",
      "__________________________________________________________________________________________________\n",
      "fire2/concat (Concatenate)      (None, 24, 24, 128)  0           fire2/relu_expand1x1[0][0]       \n",
      "                                                                 fire2/relu_expand3x3[0][0]       \n",
      "__________________________________________________________________________________________________\n",
      "fire3/squeeze1x1 (Conv2D)       (None, 24, 24, 16)   2064        fire2/concat[0][0]               \n",
      "__________________________________________________________________________________________________\n",
      "fire3/relu_squeeze1x1 (Activati (None, 24, 24, 16)   0           fire3/squeeze1x1[0][0]           \n",
      "__________________________________________________________________________________________________\n",
      "fire3/expand1x1 (Conv2D)        (None, 24, 24, 64)   1088        fire3/relu_squeeze1x1[0][0]      \n",
      "__________________________________________________________________________________________________\n",
      "fire3/expand3x3 (Conv2D)        (None, 24, 24, 64)   9280        fire3/relu_squeeze1x1[0][0]      \n",
      "__________________________________________________________________________________________________\n",
      "fire3/relu_expand1x1 (Activatio (None, 24, 24, 64)   0           fire3/expand1x1[0][0]            \n",
      "__________________________________________________________________________________________________\n",
      "fire3/relu_expand3x3 (Activatio (None, 24, 24, 64)   0           fire3/expand3x3[0][0]            \n",
      "__________________________________________________________________________________________________\n",
      "fire3/concat (Concatenate)      (None, 24, 24, 128)  0           fire3/relu_expand1x1[0][0]       \n",
      "                                                                 fire3/relu_expand3x3[0][0]       \n",
      "__________________________________________________________________________________________________\n",
      "pool3 (MaxPooling2D)            (None, 11, 11, 128)  0           fire3/concat[0][0]               \n",
      "__________________________________________________________________________________________________\n",
      "fire4/squeeze1x1 (Conv2D)       (None, 11, 11, 32)   4128        pool3[0][0]                      \n",
      "__________________________________________________________________________________________________\n",
      "fire4/relu_squeeze1x1 (Activati (None, 11, 11, 32)   0           fire4/squeeze1x1[0][0]           \n",
      "__________________________________________________________________________________________________\n",
      "fire4/expand1x1 (Conv2D)        (None, 11, 11, 128)  4224        fire4/relu_squeeze1x1[0][0]      \n",
      "__________________________________________________________________________________________________\n",
      "fire4/expand3x3 (Conv2D)        (None, 11, 11, 128)  36992       fire4/relu_squeeze1x1[0][0]      \n",
      "__________________________________________________________________________________________________\n",
      "fire4/relu_expand1x1 (Activatio (None, 11, 11, 128)  0           fire4/expand1x1[0][0]            \n",
      "__________________________________________________________________________________________________\n",
      "fire4/relu_expand3x3 (Activatio (None, 11, 11, 128)  0           fire4/expand3x3[0][0]            \n",
      "__________________________________________________________________________________________________\n",
      "fire4/concat (Concatenate)      (None, 11, 11, 256)  0           fire4/relu_expand1x1[0][0]       \n",
      "                                                                 fire4/relu_expand3x3[0][0]       \n",
      "__________________________________________________________________________________________________\n",
      "fire5/squeeze1x1 (Conv2D)       (None, 11, 11, 32)   8224        fire4/concat[0][0]               \n",
      "__________________________________________________________________________________________________\n",
      "fire5/relu_squeeze1x1 (Activati (None, 11, 11, 32)   0           fire5/squeeze1x1[0][0]           \n",
      "__________________________________________________________________________________________________\n",
      "fire5/expand1x1 (Conv2D)        (None, 11, 11, 128)  4224        fire5/relu_squeeze1x1[0][0]      \n",
      "__________________________________________________________________________________________________\n",
      "fire5/expand3x3 (Conv2D)        (None, 11, 11, 128)  36992       fire5/relu_squeeze1x1[0][0]      \n",
      "__________________________________________________________________________________________________\n",
      "fire5/relu_expand1x1 (Activatio (None, 11, 11, 128)  0           fire5/expand1x1[0][0]            \n",
      "__________________________________________________________________________________________________\n",
      "fire5/relu_expand3x3 (Activatio (None, 11, 11, 128)  0           fire5/expand3x3[0][0]            \n",
      "__________________________________________________________________________________________________\n",
      "fire5/concat (Concatenate)      (None, 11, 11, 256)  0           fire5/relu_expand1x1[0][0]       \n",
      "                                                                 fire5/relu_expand3x3[0][0]       \n",
      "__________________________________________________________________________________________________\n",
      "pool5 (MaxPooling2D)            (None, 5, 5, 256)    0           fire5/concat[0][0]               \n",
      "__________________________________________________________________________________________________\n",
      "fire6/squeeze1x1 (Conv2D)       (None, 5, 5, 48)     12336       pool5[0][0]                      \n",
      "__________________________________________________________________________________________________\n",
      "fire6/relu_squeeze1x1 (Activati (None, 5, 5, 48)     0           fire6/squeeze1x1[0][0]           \n",
      "__________________________________________________________________________________________________\n",
      "fire6/expand1x1 (Conv2D)        (None, 5, 5, 192)    9408        fire6/relu_squeeze1x1[0][0]      \n",
      "__________________________________________________________________________________________________\n",
      "fire6/expand3x3 (Conv2D)        (None, 5, 5, 192)    83136       fire6/relu_squeeze1x1[0][0]      \n",
      "__________________________________________________________________________________________________\n",
      "fire6/relu_expand1x1 (Activatio (None, 5, 5, 192)    0           fire6/expand1x1[0][0]            \n",
      "__________________________________________________________________________________________________\n",
      "fire6/relu_expand3x3 (Activatio (None, 5, 5, 192)    0           fire6/expand3x3[0][0]            \n",
      "__________________________________________________________________________________________________\n",
      "fire6/concat (Concatenate)      (None, 5, 5, 384)    0           fire6/relu_expand1x1[0][0]       \n",
      "                                                                 fire6/relu_expand3x3[0][0]       \n",
      "__________________________________________________________________________________________________\n",
      "fire7/squeeze1x1 (Conv2D)       (None, 5, 5, 48)     18480       fire6/concat[0][0]               \n",
      "__________________________________________________________________________________________________\n",
      "fire7/relu_squeeze1x1 (Activati (None, 5, 5, 48)     0           fire7/squeeze1x1[0][0]           \n",
      "__________________________________________________________________________________________________\n",
      "fire7/expand1x1 (Conv2D)        (None, 5, 5, 192)    9408        fire7/relu_squeeze1x1[0][0]      \n",
      "__________________________________________________________________________________________________\n",
      "fire7/expand3x3 (Conv2D)        (None, 5, 5, 192)    83136       fire7/relu_squeeze1x1[0][0]      \n",
      "__________________________________________________________________________________________________\n",
      "fire7/relu_expand1x1 (Activatio (None, 5, 5, 192)    0           fire7/expand1x1[0][0]            \n",
      "__________________________________________________________________________________________________\n",
      "fire7/relu_expand3x3 (Activatio (None, 5, 5, 192)    0           fire7/expand3x3[0][0]            \n",
      "__________________________________________________________________________________________________\n",
      "fire7/concat (Concatenate)      (None, 5, 5, 384)    0           fire7/relu_expand1x1[0][0]       \n",
      "                                                                 fire7/relu_expand3x3[0][0]       \n",
      "__________________________________________________________________________________________________\n",
      "fire8/squeeze1x1 (Conv2D)       (None, 5, 5, 64)     24640       fire7/concat[0][0]               \n",
      "__________________________________________________________________________________________________\n",
      "fire8/relu_squeeze1x1 (Activati (None, 5, 5, 64)     0           fire8/squeeze1x1[0][0]           \n",
      "__________________________________________________________________________________________________\n",
      "fire8/expand1x1 (Conv2D)        (None, 5, 5, 256)    16640       fire8/relu_squeeze1x1[0][0]      \n",
      "__________________________________________________________________________________________________\n",
      "fire8/expand3x3 (Conv2D)        (None, 5, 5, 256)    147712      fire8/relu_squeeze1x1[0][0]      \n",
      "__________________________________________________________________________________________________\n",
      "fire8/relu_expand1x1 (Activatio (None, 5, 5, 256)    0           fire8/expand1x1[0][0]            \n",
      "__________________________________________________________________________________________________\n",
      "fire8/relu_expand3x3 (Activatio (None, 5, 5, 256)    0           fire8/expand3x3[0][0]            \n",
      "__________________________________________________________________________________________________\n",
      "fire8/concat (Concatenate)      (None, 5, 5, 512)    0           fire8/relu_expand1x1[0][0]       \n",
      "                                                                 fire8/relu_expand3x3[0][0]       \n",
      "__________________________________________________________________________________________________\n",
      "fire9/squeeze1x1 (Conv2D)       (None, 5, 5, 64)     32832       fire8/concat[0][0]               \n",
      "__________________________________________________________________________________________________\n",
      "fire9/relu_squeeze1x1 (Activati (None, 5, 5, 64)     0           fire9/squeeze1x1[0][0]           \n",
      "__________________________________________________________________________________________________\n",
      "fire9/expand1x1 (Conv2D)        (None, 5, 5, 256)    16640       fire9/relu_squeeze1x1[0][0]      \n",
      "__________________________________________________________________________________________________\n",
      "fire9/expand3x3 (Conv2D)        (None, 5, 5, 256)    147712      fire9/relu_squeeze1x1[0][0]      \n",
      "__________________________________________________________________________________________________\n",
      "fire9/relu_expand1x1 (Activatio (None, 5, 5, 256)    0           fire9/expand1x1[0][0]            \n",
      "__________________________________________________________________________________________________\n",
      "fire9/relu_expand3x3 (Activatio (None, 5, 5, 256)    0           fire9/expand3x3[0][0]            \n",
      "__________________________________________________________________________________________________\n",
      "fire9/concat (Concatenate)      (None, 5, 5, 512)    0           fire9/relu_expand1x1[0][0]       \n",
      "                                                                 fire9/relu_expand3x3[0][0]       \n",
      "__________________________________________________________________________________________________\n",
      "conv10_new (Conv2D)             (None, 5, 5, 1024)   525312      fire9/concat[0][0]               \n",
      "__________________________________________________________________________________________________\n",
      "relu_conv10_new (Activation)    (None, 5, 5, 1024)   0           conv10_new[0][0]                 \n",
      "__________________________________________________________________________________________________\n",
      "dropout_1 (Dropout)             (None, 5, 5, 1024)   0           relu_conv10_new[0][0]            \n",
      "__________________________________________________________________________________________________\n",
      "conv11_new (Conv2D)             (None, 5, 5, 10)     10250       dropout_1[0][0]                  \n",
      "__________________________________________________________________________________________________\n",
      "relu_conv11_new (Activation)    (None, 5, 5, 10)     0           conv11_new[0][0]                 \n",
      "__________________________________________________________________________________________________\n",
      "global_average_pooling2d_2 (Glo (None, 10)           0           relu_conv11_new[0][0]            \n",
      "__________________________________________________________________________________________________\n",
      "loss_new (Activation)           (None, 10)           0           global_average_pooling2d_2[0][0] \n",
      "==================================================================================================\n",
      "Total params: 1,258,058\n",
      "Trainable params: 1,258,058\n",
      "Non-trainable params: 0\n",
      "__________________________________________________________________________________________________\n"
     ]
    }
   ],
   "source": [
    "model.summary()"
   ]
  },
  {
   "cell_type": "code",
   "execution_count": 8,
   "metadata": {
    "scrolled": true
   },
   "outputs": [
    {
     "name": "stdout",
     "output_type": "stream",
     "text": [
      "511/511 [==============================] - 6s 12ms/step\n",
      "Test Loss SqueezeNet--->  0.057626310284735534\n",
      "Test Accuracy SqueezeNet--->  0.9843444227005871\n"
     ]
    }
   ],
   "source": [
    "#Criação do generator p/ o conjunto de teste\n",
    "testGenerator_resnet = inf619utils.loadDatasetInBatches(test_files, input_shape=input_shape, batch_size=batch_size, nbClasses=nbClasses, shaffle=False)\n",
    "\n",
    "#Teste\n",
    "metrics = model.evaluate_generator(testGenerator_resnet, \n",
    "                                   steps=int(testSetSize/batch_size), \n",
    "                                   verbose=1)\n",
    "\n",
    "print(\"Test Loss SqueezeNet---> \", metrics[0])\n",
    "print(\"Test Accuracy SqueezeNet---> \", metrics[1])    #Test is balanced, so Acc is normalized"
   ]
  },
  {
   "cell_type": "code",
   "execution_count": 9,
   "metadata": {},
   "outputs": [
    {
     "name": "stdout",
     "output_type": "stream",
     "text": [
      "511/511 [==============================] - 4s 8ms/step\n"
     ]
    }
   ],
   "source": [
    "batch_size=1\n",
    "#Criação do generator p/ o conjunto de teste\n",
    "testGenerator = inf619utils.loadDatasetInBatches(test_files, input_shape=input_shape, batch_size=batch_size, nbClasses=nbClasses, shaffle=False)\n",
    "\n",
    "#Teste\n",
    "y_pred = model.predict_generator(testGenerator, \n",
    "                                   steps=int(testSetSize/batch_size), \n",
    "                                   verbose=1)"
   ]
  },
  {
   "cell_type": "code",
   "execution_count": 10,
   "metadata": {},
   "outputs": [],
   "source": [
    "predicted_classes = np.argmax(y_pred, axis=1)"
   ]
  },
  {
   "cell_type": "code",
   "execution_count": 11,
   "metadata": {},
   "outputs": [],
   "source": [
    "true_classes = np.argmax(test_labels, axis=1)"
   ]
  },
  {
   "cell_type": "code",
   "execution_count": 12,
   "metadata": {},
   "outputs": [
    {
     "name": "stdout",
     "output_type": "stream",
     "text": [
      "511 511\n"
     ]
    }
   ],
   "source": [
    "print(len(true_classes), len(predicted_classes))"
   ]
  },
  {
   "cell_type": "code",
   "execution_count": 14,
   "metadata": {},
   "outputs": [
    {
     "name": "stdout",
     "output_type": "stream",
     "text": [
      "Classification report\n",
      "              precision    recall  f1-score   support\n",
      "\n",
      "           0       0.98      1.00      0.99        51\n",
      "           1       1.00      1.00      1.00        51\n",
      "           2       0.98      1.00      0.99        51\n",
      "           3       1.00      0.96      0.98        51\n",
      "           4       1.00      1.00      1.00        51\n",
      "           5       0.98      1.00      0.99        51\n",
      "           6       1.00      1.00      1.00        51\n",
      "           7       0.98      0.96      0.97        51\n",
      "           8       0.96      0.92      0.94        52\n",
      "           9       0.96      1.00      0.98        51\n",
      "\n",
      "   micro avg       0.98      0.98      0.98       511\n",
      "   macro avg       0.98      0.98      0.98       511\n",
      "weighted avg       0.98      0.98      0.98       511\n",
      "\n",
      "Normalized confusion matrix\n",
      "[[100.     0.     0.     0.     0.     0.     0.     0.     0.     0.  ]\n",
      " [  0.   100.     0.     0.     0.     0.     0.     0.     0.     0.  ]\n",
      " [  0.     0.   100.     0.     0.     0.     0.     0.     0.     0.  ]\n",
      " [  0.     0.     1.96  96.08   0.     1.96   0.     0.     0.     0.  ]\n",
      " [  0.     0.     0.     0.   100.     0.     0.     0.     0.     0.  ]\n",
      " [  0.     0.     0.     0.     0.   100.     0.     0.     0.     0.  ]\n",
      " [  0.     0.     0.     0.     0.     0.   100.     0.     0.     0.  ]\n",
      " [  0.     0.     0.     0.     0.     0.     0.    96.08   3.92   0.  ]\n",
      " [  1.92   0.     0.     0.     0.     0.     0.     1.92  92.31   3.85]\n",
      " [  0.     0.     0.     0.     0.     0.     0.     0.     0.   100.  ]]\n"
     ]
    },
    {
     "data": {
      "image/png": "[encoded data removed]",
      "text/plain": [
       "<Figure size 360x360 with 2 Axes>"
      ]
     },
     "metadata": {
      "needs_background": "light"
     },
     "output_type": "display_data"
    }
   ],
   "source": [
    "plot_confusion(true_classes, predicted_classes, \"SqueezeNet\")"
   ]
  },
  {
   "cell_type": "code",
   "execution_count": 15,
   "metadata": {},
   "outputs": [],
   "source": [
    "del model"
   ]
  },
  {
   "cell_type": "markdown",
   "metadata": {},
   "source": [
    "# Load MobileNet Model and Plot Confusion Matrix"
   ]
  },
  {
   "cell_type": "code",
   "execution_count": 16,
   "metadata": {},
   "outputs": [],
   "source": [
    "keras_model_file = 'mobilenetv2_adam_90.h5'\n",
    "\n",
    "input_shape = (224,224,3)\n",
    "\n",
    "batch_size=1"
   ]
  },
  {
   "cell_type": "code",
   "execution_count": 17,
   "metadata": {},
   "outputs": [],
   "source": [
    "model = load_model(keras_model_file)"
   ]
  },
  {
   "cell_type": "code",
   "execution_count": 18,
   "metadata": {},
   "outputs": [
    {
     "name": "stdout",
     "output_type": "stream",
     "text": [
      "511/511 [==============================] - 22s 43ms/step\n",
      "Test Loss MobileNetV2--->  0.22024844198922439\n",
      "Test Accuracy MobileNetV2--->  0.9315068493150684\n"
     ]
    }
   ],
   "source": [
    "#Criação do generator p/ o conjunto de teste\n",
    "testGenerator_resnet = inf619utils.loadDatasetInBatches(test_files, input_shape=input_shape, batch_size=batch_size, nbClasses=nbClasses, shaffle=False)\n",
    "\n",
    "#Teste\n",
    "metrics = model.evaluate_generator(testGenerator_resnet, \n",
    "                                   steps=int(testSetSize/batch_size), \n",
    "                                   verbose=1)\n",
    "\n",
    "print(\"Test Loss MobileNetV2---> \", metrics[0])\n",
    "print(\"Test Accuracy MobileNetV2---> \", metrics[1])    #Test is balanced, so Acc is normalized"
   ]
  },
  {
   "cell_type": "code",
   "execution_count": 19,
   "metadata": {},
   "outputs": [
    {
     "name": "stdout",
     "output_type": "stream",
     "text": [
      "511/511 [==============================] - 20s 39ms/step\n"
     ]
    }
   ],
   "source": [
    "batch_size=1\n",
    "#Criação do generator p/ o conjunto de teste\n",
    "testGenerator = inf619utils.loadDatasetInBatches(test_files, input_shape=input_shape, batch_size=batch_size, nbClasses=nbClasses, shaffle=False)\n",
    "\n",
    "#Teste\n",
    "y_pred = model.predict_generator(testGenerator, \n",
    "                                   steps=int(testSetSize/batch_size), \n",
    "                                   verbose=1)"
   ]
  },
  {
   "cell_type": "code",
   "execution_count": 20,
   "metadata": {},
   "outputs": [],
   "source": [
    "predicted_classes = np.argmax(y_pred, axis=1)"
   ]
  },
  {
   "cell_type": "code",
   "execution_count": 21,
   "metadata": {},
   "outputs": [],
   "source": [
    "true_classes = np.argmax(test_labels, axis=1)"
   ]
  },
  {
   "cell_type": "code",
   "execution_count": 22,
   "metadata": {},
   "outputs": [
    {
     "name": "stdout",
     "output_type": "stream",
     "text": [
      "Classification report\n",
      "              precision    recall  f1-score   support\n",
      "\n",
      "           0       1.00      1.00      1.00        51\n",
      "           1       0.94      0.98      0.96        51\n",
      "           2       0.92      0.88      0.90        51\n",
      "           3       0.96      0.96      0.96        51\n",
      "           4       0.94      0.86      0.90        51\n",
      "           5       0.96      1.00      0.98        51\n",
      "           6       0.86      0.86      0.86        51\n",
      "           7       0.90      0.92      0.91        51\n",
      "           8       0.89      0.90      0.90        52\n",
      "           9       0.94      0.94      0.94        51\n",
      "\n",
      "   micro avg       0.93      0.93      0.93       511\n",
      "   macro avg       0.93      0.93      0.93       511\n",
      "weighted avg       0.93      0.93      0.93       511\n",
      "\n",
      "Normalized confusion matrix\n",
      "[[100.     0.     0.     0.     0.     0.     0.     0.     0.     0.  ]\n",
      " [  0.    98.04   1.96   0.     0.     0.     0.     0.     0.     0.  ]\n",
      " [  0.     5.88  88.24   0.     0.     0.     1.96   3.92   0.     0.  ]\n",
      " [  0.     0.     3.92  96.08   0.     0.     0.     0.     0.     0.  ]\n",
      " [  0.     0.     0.     0.    86.27   3.92   7.84   0.     0.     1.96]\n",
      " [  0.     0.     0.     0.     0.   100.     0.     0.     0.     0.  ]\n",
      " [  0.     0.     1.96   3.92   5.88   0.    86.27   1.96   0.     0.  ]\n",
      " [  0.     0.     0.     0.     0.     0.     1.96  92.16   5.88   0.  ]\n",
      " [  0.     0.     0.     0.     0.     0.     1.92   3.85  90.38   3.85]\n",
      " [  0.     0.     0.     0.     0.     0.     0.     0.     5.88  94.12]]\n"
     ]
    },
    {
     "data": {
      "image/png": "[encoded data removed]",
      "text/plain": [
       "<Figure size 360x360 with 2 Axes>"
      ]
     },
     "metadata": {
      "needs_background": "light"
     },
     "output_type": "display_data"
    }
   ],
   "source": [
    "plot_confusion(true_classes, predicted_classes, \"MobileNetV2\")"
   ]
  },
  {
   "cell_type": "code",
   "execution_count": 23,
   "metadata": {},
   "outputs": [],
   "source": [
    "del model"
   ]
  },
  {
   "cell_type": "markdown",
   "metadata": {},
   "source": [
    "# Load ResNet50 Model and Plot Confusion Matrix"
   ]
  },
  {
   "cell_type": "code",
   "execution_count": 24,
   "metadata": {},
   "outputs": [],
   "source": [
    "keras_model_file = 'resnet_adam_90.h5'\n",
    "\n",
    "input_shape = (224,224,3)\n",
    "\n",
    "batch_size=1"
   ]
  },
  {
   "cell_type": "code",
   "execution_count": 25,
   "metadata": {},
   "outputs": [],
   "source": [
    "model = load_model(keras_model_file)"
   ]
  },
  {
   "cell_type": "code",
   "execution_count": 26,
   "metadata": {},
   "outputs": [
    {
     "name": "stdout",
     "output_type": "stream",
     "text": [
      "511/511 [==============================] - 61s 120ms/step\n",
      "Test Loss ResNet50--->  0.30826936938250626\n",
      "Test Accuracy ResNet50--->  0.9080234833659491\n"
     ]
    }
   ],
   "source": [
    "#Criação do generator p/ o conjunto de teste\n",
    "testGenerator_resnet = inf619utils.loadDatasetInBatches(test_files, input_shape=input_shape, batch_size=batch_size, nbClasses=nbClasses, shaffle=False)\n",
    "\n",
    "#Teste\n",
    "metrics = model.evaluate_generator(testGenerator_resnet, \n",
    "                                   steps=int(testSetSize/batch_size), \n",
    "                                   verbose=1)\n",
    "\n",
    "print(\"Test Loss ResNet50---> \", metrics[0])\n",
    "print(\"Test Accuracy ResNet50---> \", metrics[1])    #Test is balanced, so Acc is normalized"
   ]
  },
  {
   "cell_type": "code",
   "execution_count": 27,
   "metadata": {},
   "outputs": [],
   "source": [
    "predicted_classes = np.argmax(y_pred, axis=1)"
   ]
  },
  {
   "cell_type": "code",
   "execution_count": 28,
   "metadata": {},
   "outputs": [],
   "source": [
    "true_classes = np.argmax(test_labels, axis=1)"
   ]
  },
  {
   "cell_type": "code",
   "execution_count": 29,
   "metadata": {},
   "outputs": [
    {
     "name": "stdout",
     "output_type": "stream",
     "text": [
      "Classification report\n",
      "              precision    recall  f1-score   support\n",
      "\n",
      "           0       1.00      1.00      1.00        51\n",
      "           1       0.94      0.98      0.96        51\n",
      "           2       0.92      0.88      0.90        51\n",
      "           3       0.96      0.96      0.96        51\n",
      "           4       0.94      0.86      0.90        51\n",
      "           5       0.96      1.00      0.98        51\n",
      "           6       0.86      0.86      0.86        51\n",
      "           7       0.90      0.92      0.91        51\n",
      "           8       0.89      0.90      0.90        52\n",
      "           9       0.94      0.94      0.94        51\n",
      "\n",
      "   micro avg       0.93      0.93      0.93       511\n",
      "   macro avg       0.93      0.93      0.93       511\n",
      "weighted avg       0.93      0.93      0.93       511\n",
      "\n",
      "Normalized confusion matrix\n",
      "[[100.     0.     0.     0.     0.     0.     0.     0.     0.     0.  ]\n",
      " [  0.    98.04   1.96   0.     0.     0.     0.     0.     0.     0.  ]\n",
      " [  0.     5.88  88.24   0.     0.     0.     1.96   3.92   0.     0.  ]\n",
      " [  0.     0.     3.92  96.08   0.     0.     0.     0.     0.     0.  ]\n",
      " [  0.     0.     0.     0.    86.27   3.92   7.84   0.     0.     1.96]\n",
      " [  0.     0.     0.     0.     0.   100.     0.     0.     0.     0.  ]\n",
      " [  0.     0.     1.96   3.92   5.88   0.    86.27   1.96   0.     0.  ]\n",
      " [  0.     0.     0.     0.     0.     0.     1.96  92.16   5.88   0.  ]\n",
      " [  0.     0.     0.     0.     0.     0.     1.92   3.85  90.38   3.85]\n",
      " [  0.     0.     0.     0.     0.     0.     0.     0.     5.88  94.12]]\n"
     ]
    },
    {
     "data": {
      "image/png": "[encoded data removed]",
      "text/plain": [
       "<Figure size 360x360 with 2 Axes>"
      ]
     },
     "metadata": {
      "needs_background": "light"
     },
     "output_type": "display_data"
    }
   ],
   "source": [
    "plot_confusion(true_classes, predicted_classes, \"ResNet50\")"
   ]
  },
  {
   "cell_type": "code",
   "execution_count": null,
   "metadata": {},
   "outputs": [],
   "source": [
    "del model"
   ]
  }
 ],
 "metadata": {
  "kernelspec": {
   "display_name": "Python 3",
   "language": "python",
   "name": "python3"
  },
  "language_info": {
   "codemirror_mode": {
    "name": "ipython",
    "version": 3
   },
   "file_extension": ".py",
   "mimetype": "text/x-python",
   "name": "python",
   "nbconvert_exporter": "python",
   "pygments_lexer": "ipython3",
   "version": "3.6.7"
  }
 },
 "nbformat": 4,
 "nbformat_minor": 2
}
